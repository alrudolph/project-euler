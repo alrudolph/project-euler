{
 "cells": [
  {
   "cell_type": "markdown",
   "metadata": {},
   "source": [
    "# Problem 1"
   ]
  },
  {
   "cell_type": "code",
   "execution_count": 166,
   "metadata": {},
   "outputs": [
    {
     "name": "stdout",
     "output_type": "stream",
     "text": [
      "233168\n"
     ]
    }
   ],
   "source": [
    "sum = 0\n",
    "\n",
    "for i in range(0, 1000):\n",
    "    # add numbers divisible by 3 or 5 to the sum\n",
    "    if i % 3 == 0 or i % 5 == 0:\n",
    "        sum += i\n",
    "        \n",
    "print(sum)"
   ]
  },
  {
   "cell_type": "markdown",
   "metadata": {},
   "source": [
    "# Problem 2"
   ]
  },
  {
   "cell_type": "code",
   "execution_count": 167,
   "metadata": {},
   "outputs": [
    {
     "name": "stdout",
     "output_type": "stream",
     "text": [
      "4613732\n"
     ]
    }
   ],
   "source": [
    "max = 4000000\n",
    "first = 1\n",
    "second = 2\n",
    "sum = 0\n",
    "\n",
    "while first < max:\n",
    "    # add even numbers to the sum\n",
    "    if first % 2 == 0:\n",
    "        sum += first\n",
    "        \n",
    "    # advance fibonacci sequence\n",
    "    [first, second] = [second, first + second]\n",
    "    \n",
    "print(sum)"
   ]
  },
  {
   "cell_type": "markdown",
   "metadata": {},
   "source": [
    "# Problem 3"
   ]
  },
  {
   "cell_type": "code",
   "execution_count": 168,
   "metadata": {},
   "outputs": [
    {
     "ename": "IndentationError",
     "evalue": "unexpected indent (<ipython-input-168-2f7f27912c92>, line 19)",
     "output_type": "error",
     "traceback": [
      "\u001b[0;36m  File \u001b[0;32m\"<ipython-input-168-2f7f27912c92>\"\u001b[0;36m, line \u001b[0;32m19\u001b[0m\n\u001b[0;31m    if n % 2 == 0:\u001b[0m\n\u001b[0m    ^\u001b[0m\n\u001b[0;31mIndentationError\u001b[0m\u001b[0;31m:\u001b[0m unexpected indent\n"
     ]
    }
   ],
   "source": [
    "import math\n",
    "\n",
    "number = 600851475143\n",
    "        \n",
    "    \n",
    "def largest_factor(n):\n",
    "    # this function finds the smallest factor\n",
    "    # then divides the input by that factor to get the largest factor\n",
    "    \n",
    "    # if evendef sum_squares(n):\n",
    "    return n * (n + 1) * (2 * n + 1) / 6\n",
    "\n",
    "def sum_numbers(n):\n",
    "    return n * (n + 1) / 2\n",
    "\n",
    "max = 100\n",
    "\n",
    "print(sum_numbers(max)**2 - sum_squares(max))\n",
    "    if n % 2 == 0:\n",
    "        return n/2\n",
    "    \n",
    "    # if odd\n",
    "    middle = int(math.sqrt(n)) + 1\n",
    "    for i in range(3, middle, 2):\n",
    "        if number % i == 0:\n",
    "            return (n / i)\n",
    "        \n",
    "    # number is prime\n",
    "    return n\n",
    "\n",
    "\n",
    "while True:\n",
    "    factor = largest_factor(number)\n",
    "    \n",
    "    if number == factor: # if prime\n",
    "        print(number)\n",
    "        break\n",
    "    \n",
    "    number = factor"
   ]
  },
  {
   "cell_type": "markdown",
   "metadata": {},
   "source": [
    "# Problem 4"
   ]
  },
  {
   "cell_type": "code",
   "execution_count": null,
   "metadata": {},
   "outputs": [],
   "source": [
    "def is_palindrome(n):\n",
    "    num = str(n)\n",
    "    \n",
    "    # index of the middle digit,\n",
    "    # if the number has an odd number of digits, the middle digit should be skipped\n",
    "    lower = int(len(num) / 2)\n",
    "    upper = int((len(num) + 1) / 2)\n",
    "    \n",
    "    # first half == last half reversed\n",
    "    return num[:lower] == num[upper:][::-1]\n",
    "\n",
    "\n",
    "largest = 0\n",
    "\n",
    "for n1 in range(0, 1000):\n",
    "    for n2 in range(0, 1000):\n",
    "        test = n1 * n2\n",
    "        if is_palindrome(test) and test > largest:\n",
    "            largest = test\n",
    "            \n",
    "print(largest)"
   ]
  },
  {
   "cell_type": "markdown",
   "metadata": {},
   "source": [
    "# Problem 5"
   ]
  },
  {
   "cell_type": "code",
   "execution_count": null,
   "metadata": {},
   "outputs": [],
   "source": [
    "def lcm(x, y):\n",
    "    smaller, larger = [x, y] if x < y else [y, x]\n",
    "    multiple = smaller\n",
    "    \n",
    "    while multiple % larger != 0:\n",
    "        multiple += smaller\n",
    "        \n",
    "    return multiple\n",
    "    \n",
    "    \n",
    "num = 1\n",
    "for i in range(2, 21):\n",
    "    num = lcm(num, i)\n",
    "    \n",
    "print(num)"
   ]
  },
  {
   "cell_type": "markdown",
   "metadata": {},
   "source": [
    "# Problem 6"
   ]
  },
  {
   "cell_type": "code",
   "execution_count": null,
   "metadata": {},
   "outputs": [],
   "source": [
    "def sum_squares(n):\n",
    "    return n * (n + 1) * (2 * n + 1) / 6\n",
    "\n",
    "\n",
    "def sum_numbers(n):\n",
    "    return n * (n + 1) / 2\n",
    "\n",
    "\n",
    "num = 100\n",
    "\n",
    "print(sum_numbers(num)**2 - sum_squares(num))"
   ]
  },
  {
   "cell_type": "markdown",
   "metadata": {},
   "source": [
    "# Problem 7"
   ]
  },
  {
   "cell_type": "code",
   "execution_count": 6,
   "metadata": {},
   "outputs": [
    {
     "data": {
      "text/plain": [
       "104743"
      ]
     },
     "execution_count": 6,
     "metadata": {},
     "output_type": "execute_result"
    }
   ],
   "source": [
    "def is_prime(n, primes):\n",
    "    for p in primes:\n",
    "        # if current number is divisible by a prime number then it's not prime\n",
    "        if n % p == 0:\n",
    "            return False\n",
    "    return True\n",
    "\n",
    "\n",
    "def primes(n):\n",
    "    # keep track of previous prime numbers\n",
    "    primes = [2, 3]\n",
    "    \n",
    "    while len(primes) < n:\n",
    "        last_prime = primes[-1]\n",
    "\n",
    "        # start looking from last prime for the next one\n",
    "        while not is_prime(last_prime, primes):\n",
    "            last_prime += 2\n",
    "        \n",
    "        primes.append(last_prime)\n",
    "    \n",
    "    return primes\n",
    "\n",
    "\n",
    "primes(10001)[-1]"
   ]
  },
  {
   "cell_type": "markdown",
   "metadata": {},
   "source": [
    "# Problem 8"
   ]
  },
  {
   "cell_type": "code",
   "execution_count": 32,
   "metadata": {},
   "outputs": [
    {
     "data": {
      "text/plain": [
       "23514624000"
      ]
     },
     "execution_count": 32,
     "metadata": {},
     "output_type": "execute_result"
    }
   ],
   "source": [
    "digits = '7316717653133062491922511967442657474235\\\n",
    "53491949349698352031277450632623957831801698480186\\\n",
    "94788518438586156078911294949545950173795833195285\\\n",
    "32088055111254069874715852386305071569329096329522\\\n",
    "74430435576689664895044524452316173185640309871112\\\n",
    "17223831136222989342338030813533627661428280644448\\\n",
    "66452387493035890729629049156044077239071381051585\\\n",
    "93079608667017242712188399879790879227492190169972\\\n",
    "08880937766572733300105336788122023542180975125454\\\n",
    "05947522435258490771167055601360483958644670632441\\\n",
    "57221553975369781797784617406495514929086256932197\\\n",
    "84686224828397224137565705605749026140797296865241\\\n",
    "45351004748216637048440319989000889524345065854122\\\n",
    "75886668811642717147992444292823086346567481391912\\\n",
    "31628245861786645835912456652947654568284891288314\\\n",
    "26076900422421902267105562632111110937054421750694\\\n",
    "16589604080719840385096245544436298123098787992724\\\n",
    "42849091888458015616609791913387549920052406368991\\\n",
    "25607176060588611646710940507754100225698315520005\\\n",
    "593572972571636269561882670428252483600823257530420\\\n",
    "752963450'\n",
    "\n",
    "\n",
    "def list_prod(seq:str):\n",
    "    prod = 1\n",
    "    for n in list(seq):  # splits string into individual chars\n",
    "        prod *= int(n)\n",
    "    return prod\n",
    "\n",
    "\n",
    "def largest_seq(digits:str, seq_length):\n",
    "    largest_prod = 0\n",
    "    \n",
    "    for i in range(0, len(digits) - seq_length):\n",
    "        adjacent = digits[i:(i + seq_length)]  # pick out a sequence\n",
    "        prod = list_prod(adjacent)  # get it's product\n",
    "        \n",
    "        if prod > largest_prod:\n",
    "            largest_prod = prod\n",
    "            \n",
    "    return largest_prod\n",
    "    \n",
    "    \n",
    "largest_seq(digits, 13)"
   ]
  },
  {
   "cell_type": "markdown",
   "metadata": {},
   "source": [
    "# Problem 9"
   ]
  },
  {
   "cell_type": "code",
   "execution_count": 51,
   "metadata": {},
   "outputs": [
    {
     "name": "stdout",
     "output_type": "stream",
     "text": [
      "31875000\n"
     ]
    }
   ],
   "source": [
    "def is_triple(a, b, c):\n",
    "    return a**2 + b**2 == c**2\n",
    "\n",
    "\n",
    "# generates a sequence [a, b, c] s.t. a + b + c = 1000\n",
    "def get_seq():\n",
    "    for a in range(1, 1001):\n",
    "        for b in range(a, 1001):\n",
    "            yield [a, 1000 - b, b - a]\n",
    "    \n",
    "    \n",
    "for seq in get_seq():\n",
    "    if is_triple(*seq):\n",
    "        print(seq[0] * seq[1] * seq[2])\n",
    "        break\n"
   ]
  },
  {
   "cell_type": "markdown",
   "metadata": {},
   "source": [
    "# Problem 10"
   ]
  },
  {
   "cell_type": "code",
   "execution_count": 61,
   "metadata": {},
   "outputs": [
    {
     "name": "stdout",
     "output_type": "stream",
     "text": [
      "142913828922\n"
     ]
    }
   ],
   "source": [
    "n = 2000000\n",
    "\n",
    "primes = [True] * n\n",
    "\n",
    "# sieve of eratosthenes\n",
    "for i in range(2, len(primes)):\n",
    "    if not primes[i]:\n",
    "        continue\n",
    "    \n",
    "    for j in range(i**2, len(primes), i):\n",
    "        primes[j] = False\n",
    "\n",
    "        \n",
    "sum = 0\n",
    "# sum the primes (true's)\n",
    "for i in range(2, len(primes)):\n",
    "    if primes[i]:\n",
    "        sum += i\n",
    "\n",
    "print(sum)"
   ]
  }
 ],
 "metadata": {
  "kernelspec": {
   "display_name": "Python 3",
   "language": "python",
   "name": "python3"
  },
  "language_info": {
   "codemirror_mode": {
    "name": "ipython",
    "version": 3
   },
   "file_extension": ".py",
   "mimetype": "text/x-python",
   "name": "python",
   "nbconvert_exporter": "python",
   "pygments_lexer": "ipython3",
   "version": "3.8.5"
  }
 },
 "nbformat": 4,
 "nbformat_minor": 4
}
